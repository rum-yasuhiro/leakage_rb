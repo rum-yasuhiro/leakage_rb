{
 "cells": [
  {
   "cell_type": "markdown",
   "metadata": {},
   "source": [
    "# Leakage Randomized Benchmarking (RB) on Qiskit"
   ]
  },
  {
   "cell_type": "markdown",
   "metadata": {},
   "source": [
    "#For Leakage RB:<br>\n",
    "Leakage errors occur when a quantum system is encoded in a subspace of a larger system<br>\n",
    "Example:<br>\n",
    "IBM superconductor qubits are based on an \"anharmonic LC oscillator\" [1]. In this circuit, |0> and |1> energy states form computational basises, whereas |2> state has a certain population possibility during operations, which we refer to leakage error. In silicon spin (exchange-only) qubit, the leakage error is caused by magnetic gradients due to hyperfine interactions with nuclear spins [2]. Noted that Qiskit, as a device-agnostic language, have recently implemented on trapped-ion, we therefore aim to build a software automated package to characterize the effects both from leakage and seepage errors. [3] <br>\n",
    "[1] https://blog.qutech.nl/index.php/2017/08/13/how-to-make-artificial-atoms-out-of-electrical-circuits-part-ii-circuit-quantum-electrodynamics-and-the-transmon/ <br>\n",
    "[2] “Quantifying error and leakage in an encoded Si/SiGe triple-dot qubit” Nat. Nanotech., 14, 747 (2019)<br>\n",
    "[3] \"Quantification and Characterization of Leakage Errors\" Phys. Rev. A 97, 032306 (2018)"
   ]
  },
  {
   "cell_type": "code",
   "execution_count": 26,
   "metadata": {},
   "outputs": [
    {
     "data": {
      "text/html": [
       "<table><tr><td><img src='https://blog.qutech.nl/wp-content/uploads/2017/05/circuit_energy_levels-01-985x1024.png', width=450, height=400></td><td><img src='https://media.springernature.com/m312/springer-static/image/art%3A10.1038%2Fs41565-019-0500-4/MediaObjects/41565_2019_500_Fig1_HTML.png?as=webp', width=450, height=400></td></tr></table>"
      ],
      "text/plain": [
       "<IPython.core.display.HTML object>"
      ]
     },
     "metadata": {},
     "output_type": "display_data"
    }
   ],
   "source": [
    "from IPython.display import Image\n",
    "from IPython.core.display import HTML\n",
    "display(HTML(\"<table><tr><td><img src='https://blog.qutech.nl/wp-content/uploads/2017/05/circuit_energy_levels-01-985x1024.png', width=450, height=400></td><td><img src='https://media.springernature.com/m312/springer-static/image/art%3A10.1038%2Fs41565-019-0500-4/MediaObjects/41565_2019_500_Fig1_HTML.png?as=webp', width=450, height=400></td></tr></table>\"))"
   ]
  },
  {
   "cell_type": "markdown",
   "metadata": {},
   "source": [
    "For standard RB\n",
    "Sequence of $m$ Clifford gates\n",
    "\n",
    "$\\rho-\\boxed{ C_0 }-\\boxed{ C_1 }- ... -\\boxed{ C_m }-\\boxed{M}$"
   ]
  },
  {
   "cell_type": "markdown",
   "metadata": {},
   "source": [
    "In the ideal case, applying an inverted clifford gates sequence should give us an identity:<br>\n",
    "<br>\n",
    "$\\rho-\\boxed{ C_0 }-\\boxed{ C_1 }- ... -\\boxed{ C_m }-\\boxed{ C_m^{-1}...C_0^{-1} }-\\boxed{M}$\n",
    "<br><br>\n",
    "equals<br>\n",
    "<br>\n",
    "$\\rho-\\boxed{ Id }-\\boxed{M}$"
   ]
  },
  {
   "cell_type": "markdown",
   "metadata": {},
   "source": [
    "However, the real operations on the physical devices are noisy. Therefore, we can model and implemente the noise with existing tools in Qiskit. The errors caused by these noise are modeled independently by, $\\Lambda_i$, as:<br><br>\n",
    "$\\rho-\\boxed{ C_0 }$-<font color=red >$\\boxed{\\Lambda_0}$</font>-\n",
    "$\\boxed{C_1}$-<font color=red >$\\boxed{\\Lambda_1}$</font>-\n",
    "...-$\\boxed{C_m^{-1}...C_0^{-1}}$-<font color=red >$\\boxed{\\Lambda_{m+1}}$</font>-$\\boxed{M}$"
   ]
  },
  {
   "cell_type": "markdown",
   "metadata": {},
   "source": [
    "Consequently, the survival probability of the initial state can be fitted to the model\n",
    "<br>\n",
    "\n",
    "$$p(m)=Ap^m+B$$\n",
    "<br>\n",
    "\n",
    "under time-independent and gate-independent assumptions on each $\\Lambda$."
   ]
  },
  {
   "cell_type": "markdown",
   "metadata": {},
   "source": [
    "Next, we use the RB to obtain the leakage error by modifying the original script (circuit.py) and test on the IBM cloud quantum machines. For the case where Leakage errors occurs during the RB Sequence  <br><br>\n",
    "$\\rho-\\boxed{ C_0 }$- <font color=red >$\\boxed{\\Lambda_0}$</font>- $\\boxed{C_1}$- <font color=red >$\\boxed{\\Lambda_1}$</font>-...- $\\boxed{C_m^{-1}...C_0^{-1}}-\\boxed{\\Lambda_{m+1}}-\\boxed{Fuji+Jade+Uluru}-\\boxed{M}$. <br><br>\n",
    "In our software tool (Fuji-Jade-Uluru), additional $X$ gate(s) is appended to the existing RB clifford gate sequence, depends on initialized state. Below is the exemplary circuits for a two-qubit case. We implemented error model of four cases, $|00>$, $|01>$, $|10>$, and $|11>$ in AER sending to Ignis machine for simulation."
   ]
  },
  {
   "cell_type": "markdown",
   "metadata": {},
   "source": [
    "Leakage RB fit: <br>\n",
    "$$p_\\mathbb{I}(m)=A_0+B_0\\lambda_1^m$$"
   ]
  },
  {
   "cell_type": "markdown",
   "metadata": {},
   "source": [
    "Our Leakage RB circits on IBM qiskit\n",
    "Prob of 00 \n",
    "![](https://imgur.com/5YeD0l7.png)<br><br>\n",
    "Prob of 01 \n",
    "![](https://imgur.com/m9F51NJ.png)<br><br>\n",
    "Prob of 10 \n",
    "![](https://imgur.com/w5IUo0l.png)<br><br>\n",
    "Prob of 11 \n",
    "![](https://imgur.com/lK63DV1.png)\n"
   ]
  },
  {
   "cell_type": "markdown",
   "metadata": {},
   "source": [
    "From the figures below, we fitted the population to our model and obtain $A_0 = 0.60$, $B_0 = 0.40$, and $\\lambda= 0.90$. \n",
    "Leakage error: 1%\n",
    "Depolarization error: 1%"
   ]
  },
  {
   "cell_type": "markdown",
   "metadata": {},
   "source": [
    "![](https://imgur.com/3PelRMC.png)"
   ]
  },
  {
   "cell_type": "markdown",
   "metadata": {},
   "source": [
    "Leakage error: 0.5%\n",
    "Depolarization error: 0.1%\n",
    "![](https://imgur.com/gB7a14S.png)"
   ]
  },
  {
   "cell_type": "code",
   "execution_count": null,
   "metadata": {},
   "outputs": [],
   "source": []
  }
 ],
 "metadata": {
  "kernelspec": {
   "display_name": "Python 3",
   "language": "python",
   "name": "python3"
  },
  "language_info": {
   "codemirror_mode": {
    "name": "ipython",
    "version": 3
   },
   "file_extension": ".py",
   "mimetype": "text/x-python",
   "name": "python",
   "nbconvert_exporter": "python",
   "pygments_lexer": "ipython3",
   "version": "3.6.5"
  },
  "latex_envs": {
   "LaTeX_envs_menu_present": true,
   "autoclose": false,
   "autocomplete": true,
   "bibliofile": "biblio.bib",
   "cite_by": "apalike",
   "current_citInitial": 1,
   "eqLabelWithNumbers": true,
   "eqNumInitial": 1,
   "hotkeys": {
    "equation": "Ctrl-E",
    "itemize": "Ctrl-I"
   },
   "labels_anchors": false,
   "latex_user_defs": false,
   "report_style_numbering": false,
   "user_envs_cfg": false
  },
  "toc": {
   "base_numbering": 1,
   "nav_menu": {},
   "number_sections": true,
   "sideBar": true,
   "skip_h1_title": false,
   "title_cell": "Table of Contents",
   "title_sidebar": "Contents",
   "toc_cell": false,
   "toc_position": {},
   "toc_section_display": true,
   "toc_window_display": false
  },
  "varInspector": {
   "cols": {
    "lenName": 16,
    "lenType": 16,
    "lenVar": 40
   },
   "kernels_config": {
    "python": {
     "delete_cmd_postfix": "",
     "delete_cmd_prefix": "del ",
     "library": "var_list.py",
     "varRefreshCmd": "print(var_dic_list())"
    },
    "r": {
     "delete_cmd_postfix": ") ",
     "delete_cmd_prefix": "rm(",
     "library": "var_list.r",
     "varRefreshCmd": "cat(var_dic_list()) "
    }
   },
   "types_to_exclude": [
    "module",
    "function",
    "builtin_function_or_method",
    "instance",
    "_Feature"
   ],
   "window_display": false
  }
 },
 "nbformat": 4,
 "nbformat_minor": 2
}
