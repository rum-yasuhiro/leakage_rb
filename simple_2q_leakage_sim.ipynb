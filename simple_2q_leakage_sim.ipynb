{
 "cells": [
  {
   "cell_type": "code",
   "execution_count": 39,
   "metadata": {},
   "outputs": [],
   "source": [
    "from qiskit import *\n",
    "from qiskit.providers.aer import noise\n",
    "import qiskit.quantum_info as qi\n",
    "\n",
    "sim = Aer.get_backend(\"qasm_simulator\")\n",
    "\n",
    "import numpy as np\n",
    "from matplotlib import pyplot as plt"
   ]
  },
  {
   "cell_type": "code",
   "execution_count": 13,
   "metadata": {},
   "outputs": [],
   "source": [
    "q_comp = QuantumRegister(2, 'q_comp')\n",
    "q_leak = QuantumRegister(1, 'q_leak')\n",
    "c_comp = ClassicalRegister(2, 'c_comp')\n",
    "c_leak = ClassicalRegister(1, 'c_leak')\n",
    "\n",
    "qc = QuantumCircuit(q_comp, q_leak, c_comp, c_leak)\n",
    "qc.h(q_comp[0])\n",
    "qc.h(q_comp[1])\n",
    "qc.barrier(q_comp, q_leak)\n",
    "qc.h(q_comp[0])\n",
    "qc.h(q_comp[1])\n",
    "qc.draw()\n",
    "\n",
    "qc0 = qc.copy()\n",
    "qc0.measure(q_comp, c_comp)\n",
    "qc0.barrier(q_comp, q_leak)\n",
    "qc0.measure(q_leak, c_leak)\n",
    "\n",
    "qc1 = qc.copy()\n",
    "qc1.x(q_comp[0])\n",
    "qc1.measure(q_comp, c_comp)\n",
    "qc1.barrier(q_comp, q_leak)\n",
    "qc1.measure(q_leak, c_leak)\n",
    "\n",
    "qc2 = qc.copy()\n",
    "qc2.x(q_comp[1])\n",
    "qc2.measure(q_comp, c_comp)\n",
    "qc2.barrier(q_comp, q_leak)\n",
    "qc2.measure(q_leak, c_leak)\n",
    "\n",
    "qc3 = qc.copy()\n",
    "qc3.x(q_comp[0])\n",
    "qc3.x(q_comp[1])\n",
    "qc3.measure(q_comp, c_comp)\n",
    "qc3.barrier(q_comp, q_leak)\n",
    "qc3.measure(q_leak, c_leak)\n",
    "\n",
    "qc_all = [qc0, qc1, qc2, qc3]\n"
   ]
  },
  {
   "cell_type": "code",
   "execution_count": 14,
   "metadata": {},
   "outputs": [
    {
     "data": {
      "text/html": [
       "<pre style=\"word-wrap: normal;white-space: pre;background: #fff0;line-height: 1.1;font-family: &quot;Courier New&quot;,Courier,monospace\">             ┌───┐ ░ ┌───┐┌─┐    ░    \n",
       "q_comp_0: |0>┤ H ├─░─┤ H ├┤M├────░────\n",
       "             ├───┤ ░ ├───┤└╥┘┌─┐ ░    \n",
       "q_comp_1: |0>┤ H ├─░─┤ H ├─╫─┤M├─░────\n",
       "             └───┘ ░ └───┘ ║ └╥┘ ░ ┌─┐\n",
       "q_leak_0: |0>──────░───────╫──╫──░─┤M├\n",
       "                   ░       ║  ║  ░ └╥┘\n",
       " c_comp_0: 0 ══════════════╩══╬═════╬═\n",
       "                              ║     ║ \n",
       " c_comp_1: 0 ═════════════════╩═════╬═\n",
       "                                    ║ \n",
       " c_leak_0: 0 ═══════════════════════╩═\n",
       "                                      </pre>"
      ],
      "text/plain": [
       "<qiskit.visualization.text.TextDrawing at 0x1a249f44a8>"
      ]
     },
     "execution_count": 14,
     "metadata": {},
     "output_type": "execute_result"
    }
   ],
   "source": [
    "qc0.draw()"
   ]
  },
  {
   "cell_type": "code",
   "execution_count": 15,
   "metadata": {},
   "outputs": [
    {
     "data": {
      "text/html": [
       "<pre style=\"word-wrap: normal;white-space: pre;background: #fff0;line-height: 1.1;font-family: &quot;Courier New&quot;,Courier,monospace\">             ┌───┐ ░ ┌───┐┌───┐┌─┐ ░    \n",
       "q_comp_0: |0>┤ H ├─░─┤ H ├┤ X ├┤M├─░────\n",
       "             ├───┤ ░ ├───┤└┬─┬┘└╥┘ ░    \n",
       "q_comp_1: |0>┤ H ├─░─┤ H ├─┤M├──╫──░────\n",
       "             └───┘ ░ └───┘ └╥┘  ║  ░ ┌─┐\n",
       "q_leak_0: |0>──────░────────╫───╫──░─┤M├\n",
       "                   ░        ║   ║  ░ └╥┘\n",
       " c_comp_0: 0 ═══════════════╬═══╩═════╬═\n",
       "                            ║         ║ \n",
       " c_comp_1: 0 ═══════════════╩═════════╬═\n",
       "                                      ║ \n",
       " c_leak_0: 0 ═════════════════════════╩═\n",
       "                                        </pre>"
      ],
      "text/plain": [
       "<qiskit.visualization.text.TextDrawing at 0x1a24b5f6a0>"
      ]
     },
     "execution_count": 15,
     "metadata": {},
     "output_type": "execute_result"
    }
   ],
   "source": [
    "qc1.draw()"
   ]
  },
  {
   "cell_type": "code",
   "execution_count": 16,
   "metadata": {},
   "outputs": [
    {
     "data": {
      "text/html": [
       "<pre style=\"word-wrap: normal;white-space: pre;background: #fff0;line-height: 1.1;font-family: &quot;Courier New&quot;,Courier,monospace\">             ┌───┐ ░ ┌───┐     ┌─┐    ░    \n",
       "q_comp_0: |0>┤ H ├─░─┤ H ├─────┤M├────░────\n",
       "             ├───┤ ░ ├───┤┌───┐└╥┘┌─┐ ░    \n",
       "q_comp_1: |0>┤ H ├─░─┤ H ├┤ X ├─╫─┤M├─░────\n",
       "             └───┘ ░ └───┘└───┘ ║ └╥┘ ░ ┌─┐\n",
       "q_leak_0: |0>──────░────────────╫──╫──░─┤M├\n",
       "                   ░            ║  ║  ░ └╥┘\n",
       " c_comp_0: 0 ═══════════════════╩══╬═════╬═\n",
       "                                   ║     ║ \n",
       " c_comp_1: 0 ══════════════════════╩═════╬═\n",
       "                                         ║ \n",
       " c_leak_0: 0 ════════════════════════════╩═\n",
       "                                           </pre>"
      ],
      "text/plain": [
       "<qiskit.visualization.text.TextDrawing at 0x1a24a91748>"
      ]
     },
     "execution_count": 16,
     "metadata": {},
     "output_type": "execute_result"
    }
   ],
   "source": [
    "qc2.draw()"
   ]
  },
  {
   "cell_type": "code",
   "execution_count": 17,
   "metadata": {},
   "outputs": [
    {
     "data": {
      "text/html": [
       "<pre style=\"word-wrap: normal;white-space: pre;background: #fff0;line-height: 1.1;font-family: &quot;Courier New&quot;,Courier,monospace\">             ┌───┐ ░ ┌───┐┌───┐┌─┐    ░    \n",
       "q_comp_0: |0>┤ H ├─░─┤ H ├┤ X ├┤M├────░────\n",
       "             ├───┤ ░ ├───┤├───┤└╥┘┌─┐ ░    \n",
       "q_comp_1: |0>┤ H ├─░─┤ H ├┤ X ├─╫─┤M├─░────\n",
       "             └───┘ ░ └───┘└───┘ ║ └╥┘ ░ ┌─┐\n",
       "q_leak_0: |0>──────░────────────╫──╫──░─┤M├\n",
       "                   ░            ║  ║  ░ └╥┘\n",
       " c_comp_0: 0 ═══════════════════╩══╬═════╬═\n",
       "                                   ║     ║ \n",
       " c_comp_1: 0 ══════════════════════╩═════╬═\n",
       "                                         ║ \n",
       " c_leak_0: 0 ════════════════════════════╩═\n",
       "                                           </pre>"
      ],
      "text/plain": [
       "<qiskit.visualization.text.TextDrawing at 0x1a249f3358>"
      ]
     },
     "execution_count": 17,
     "metadata": {},
     "output_type": "execute_result"
    }
   ],
   "source": [
    "qc3.draw()"
   ]
  },
  {
   "cell_type": "code",
   "execution_count": 22,
   "metadata": {},
   "outputs": [],
   "source": [
    "lrb_circs = transpile(qc_all, basis_gates=['u3', 'cx'], optimization_level=3)"
   ]
  },
  {
   "cell_type": "markdown",
   "metadata": {},
   "source": [
    "## Define the leakage noise model"
   ]
  },
  {
   "cell_type": "code",
   "execution_count": 23,
   "metadata": {},
   "outputs": [
    {
     "name": "stdout",
     "output_type": "stream",
     "text": [
      "NoiseModel:\n",
      "  Basis gates: ['cx', 'id', 'u1', 'u2', 'u3']\n",
      "  Instructions with noise: ['u3', 'u2', 'u1', 'cx']\n",
      "  Qubits with noise: [0, 1, 2]\n",
      "  Non-local specific qubit errors: [('u1', [0], [0, 2]), ('u1', [1], [1, 2]), ('u2', [0], [0, 2]), ('u2', [1], [1, 2]), ('u3', [0], [0, 2]), ('u3', [1], [1, 2]), ('cx', [0, 1], [0, 1, 2]), ('cx', [1, 0], [1, 0, 2])]\n"
     ]
    }
   ],
   "source": [
    "def leakage_error(qubit_error, p_leakage):\n",
    "    no_leak = qi.Choi(qubit_error).expand(qi.Operator([[1,0], [0, 1]]))\n",
    "    leak = qi.Choi(qubit_error).expand(qi.Operator([[0,1],[1,0]]))\n",
    "    \n",
    "    return (1 - p_leakage) * no_leak + p_leakage * leak\n",
    "\n",
    "p_depol1 = 0.01\n",
    "p_depol2 = 0.01\n",
    "p_leakage1 = 0.1\n",
    "p_leakage2 = 0.1\n",
    "error_1q_leakage = leakage_error(noise.errors.depolarizing_error(p_depol1, 1), p_leakage1)\n",
    "error_2q_leakage = leakage_error(noise.errors.depolarizing_error(p_depol2, 2), p_leakage2)\n",
    "\n",
    "nm = noise.NoiseModel()\n",
    "nm.add_nonlocal_quantum_error(error_1q_leakage, ['u1', 'u2', 'u3'], [0], [0, 2])\n",
    "nm.add_nonlocal_quantum_error(error_1q_leakage, ['u1', 'u2', 'u3'], [1], [1, 2])\n",
    "nm.add_nonlocal_quantum_error(error_2q_leakage, ['cx'], [0, 1], [0, 1, 2])\n",
    "nm.add_nonlocal_quantum_error(error_2q_leakage, ['cx'], [1, 0], [1, 0, 2])\n",
    "print(nm)"
   ]
  },
  {
   "cell_type": "code",
   "execution_count": null,
   "metadata": {},
   "outputs": [],
   "source": []
  },
  {
   "cell_type": "markdown",
   "metadata": {},
   "source": [
    "## Run on noisy simulator and check the result!"
   ]
  },
  {
   "cell_type": "code",
   "execution_count": 24,
   "metadata": {},
   "outputs": [
    {
     "name": "stdout",
     "output_type": "stream",
     "text": [
      "{'0 01': 32, '1 10': 9, '1 00': 1424, '0 10': 41, '1 01': 19, '0 00': 3475}\n",
      "{'0 01': 3495, '0 10': 1, '1 00': 13, '0 11': 31, '1 01': 1408, '1 11': 8, '0 00': 44}\n",
      "{'1 10': 1471, '0 10': 3431, '1 00': 4, '0 11': 36, '1 11': 16, '0 00': 42}\n",
      "{'0 01': 25, '1 10': 22, '0 10': 35, '1 00': 2, '0 11': 3459, '1 01': 7, '1 11': 1450}\n"
     ]
    }
   ],
   "source": [
    "shots = 5000\n",
    "result = execute(lrb_circs, sim, shots=shots, noise_model=nm).result()\n",
    "\n",
    "counts0 = result.get_counts(0)\n",
    "counts1 = result.get_counts(1)\n",
    "counts2 = result.get_counts(2)\n",
    "counts3 = result.get_counts(3)\n",
    "print(counts0)\n",
    "print(counts1)\n",
    "print(counts2)\n",
    "print(counts3)"
   ]
  },
  {
   "cell_type": "code",
   "execution_count": 25,
   "metadata": {},
   "outputs": [],
   "source": [
    "## Caluculate the Potulation the "
   ]
  },
  {
   "cell_type": "code",
   "execution_count": 26,
   "metadata": {},
   "outputs": [
    {
     "data": {
      "text/plain": [
       "0.7121999999999999"
      ]
     },
     "execution_count": 26,
     "metadata": {},
     "output_type": "execute_result"
    }
   ],
   "source": [
    "p00 = counts0.get('0 00', 0) / shots\n",
    "p01 = counts1.get('0 00', 0) / shots\n",
    "p10 = counts2.get('0 00', 0) / shots\n",
    "p11 = counts3.get('0 00', 0) / shots\n",
    "p_id = p00 + p01 + p10 + p11\n",
    "p_id"
   ]
  },
  {
   "cell_type": "code",
   "execution_count": null,
   "metadata": {},
   "outputs": [],
   "source": []
  },
  {
   "cell_type": "code",
   "execution_count": 32,
   "metadata": {},
   "outputs": [],
   "source": [
    "nm_list = []\n",
    "for error in range(10):\n",
    "\n",
    "    p_leakage1 = error*0.01\n",
    "    p_leakage2 = error*0.1\n",
    "    error_1q_leakage = leakage_error(noise.errors.depolarizing_error(p_depol1, 1), p_leakage1)\n",
    "    error_2q_leakage = leakage_error(noise.errors.depolarizing_error(p_depol2, 2), p_leakage2)\n",
    "\n",
    "    nm = noise.NoiseModel()\n",
    "    nm.add_nonlocal_quantum_error(error_1q_leakage, ['u1', 'u2', 'u3'], [0], [0, 2])\n",
    "    nm.add_nonlocal_quantum_error(error_1q_leakage, ['u1', 'u2', 'u3'], [1], [1, 2])\n",
    "    nm.add_nonlocal_quantum_error(error_2q_leakage, ['cx'], [0, 1], [0, 1, 2])\n",
    "    nm.add_nonlocal_quantum_error(error_2q_leakage, ['cx'], [1, 0], [1, 0, 2])\n",
    "    \n",
    "    nm_list.append(nm)"
   ]
  },
  {
   "cell_type": "code",
   "execution_count": 34,
   "metadata": {},
   "outputs": [],
   "source": [
    "pid_list = []\n",
    "for nm in nm_list:\n",
    "    shots = 5000\n",
    "    result = execute(lrb_circs, sim, shots=shots, noise_model=nm).result()\n",
    "\n",
    "    counts0 = result.get_counts(0)\n",
    "    counts1 = result.get_counts(1)\n",
    "    counts2 = result.get_counts(2)\n",
    "    counts3 = result.get_counts(3)\n",
    "    \n",
    "    p00 = counts0.get('0 00', 0) / shots\n",
    "    p01 = counts1.get('0 00', 0) / shots\n",
    "    p10 = counts2.get('0 00', 0) / shots\n",
    "    p11 = counts3.get('0 00', 0) / shots\n",
    "    p_id = p00 + p01 + p10 + p11\n",
    "    pid_list.append(p_id)"
   ]
  },
  {
   "cell_type": "code",
   "execution_count": 41,
   "metadata": {},
   "outputs": [
    {
     "name": "stdout",
     "output_type": "stream",
     "text": [
      "[0.9972, 0.9536, 0.929, 0.882, 0.8578000000000001, 0.8353999999999999, 0.7918000000000001, 0.7708, 0.7478, 0.7353999999999999]\n"
     ]
    }
   ],
   "source": [
    "print(pid_list)"
   ]
  },
  {
   "cell_type": "code",
   "execution_count": 40,
   "metadata": {},
   "outputs": [
    {
     "ename": "ValueError",
     "evalue": "x and y must have same first dimension, but have shapes (11,) and (10,)",
     "output_type": "error",
     "traceback": [
      "\u001b[0;31m---------------------------------------------------------------------------\u001b[0m",
      "\u001b[0;31mValueError\u001b[0m                                Traceback (most recent call last)",
      "\u001b[0;32m<ipython-input-40-5772a40f23e4>\u001b[0m in \u001b[0;36m<module>\u001b[0;34m\u001b[0m\n\u001b[1;32m     24\u001b[0m \u001b[0;34m\u001b[0m\u001b[0m\n\u001b[1;32m     25\u001b[0m \u001b[0;31m## data\u001b[0m\u001b[0;34m\u001b[0m\u001b[0;34m\u001b[0m\u001b[0;34m\u001b[0m\u001b[0m\n\u001b[0;32m---> 26\u001b[0;31m \u001b[0mplt\u001b[0m\u001b[0;34m.\u001b[0m\u001b[0mplot\u001b[0m\u001b[0;34m(\u001b[0m\u001b[0mx_ax\u001b[0m\u001b[0;34m,\u001b[0m \u001b[0mpid_list\u001b[0m\u001b[0;34m,\u001b[0m \u001b[0mcolor\u001b[0m\u001b[0;34m=\u001b[0m\u001b[0;34m'#EF5350'\u001b[0m\u001b[0;34m,\u001b[0m \u001b[0;34m)\u001b[0m\u001b[0;34m\u001b[0m\u001b[0;34m\u001b[0m\u001b[0m\n\u001b[0m",
      "\u001b[0;32m~/anaconda3/lib/python3.7/site-packages/matplotlib/pyplot.py\u001b[0m in \u001b[0;36mplot\u001b[0;34m(scalex, scaley, data, *args, **kwargs)\u001b[0m\n\u001b[1;32m   2811\u001b[0m     return gca().plot(\n\u001b[1;32m   2812\u001b[0m         *args, scalex=scalex, scaley=scaley, **({\"data\": data} if data\n\u001b[0;32m-> 2813\u001b[0;31m         is not None else {}), **kwargs)\n\u001b[0m\u001b[1;32m   2814\u001b[0m \u001b[0;34m\u001b[0m\u001b[0m\n\u001b[1;32m   2815\u001b[0m \u001b[0;34m\u001b[0m\u001b[0m\n",
      "\u001b[0;32m~/anaconda3/lib/python3.7/site-packages/matplotlib/__init__.py\u001b[0m in \u001b[0;36minner\u001b[0;34m(ax, data, *args, **kwargs)\u001b[0m\n\u001b[1;32m   1808\u001b[0m                         \u001b[0;34m\"the Matplotlib list!)\"\u001b[0m \u001b[0;34m%\u001b[0m \u001b[0;34m(\u001b[0m\u001b[0mlabel_namer\u001b[0m\u001b[0;34m,\u001b[0m \u001b[0mfunc\u001b[0m\u001b[0;34m.\u001b[0m\u001b[0m__name__\u001b[0m\u001b[0;34m)\u001b[0m\u001b[0;34m,\u001b[0m\u001b[0;34m\u001b[0m\u001b[0;34m\u001b[0m\u001b[0m\n\u001b[1;32m   1809\u001b[0m                         RuntimeWarning, stacklevel=2)\n\u001b[0;32m-> 1810\u001b[0;31m             \u001b[0;32mreturn\u001b[0m \u001b[0mfunc\u001b[0m\u001b[0;34m(\u001b[0m\u001b[0max\u001b[0m\u001b[0;34m,\u001b[0m \u001b[0;34m*\u001b[0m\u001b[0margs\u001b[0m\u001b[0;34m,\u001b[0m \u001b[0;34m**\u001b[0m\u001b[0mkwargs\u001b[0m\u001b[0;34m)\u001b[0m\u001b[0;34m\u001b[0m\u001b[0;34m\u001b[0m\u001b[0m\n\u001b[0m\u001b[1;32m   1811\u001b[0m \u001b[0;34m\u001b[0m\u001b[0m\n\u001b[1;32m   1812\u001b[0m         inner.__doc__ = _add_data_doc(inner.__doc__,\n",
      "\u001b[0;32m~/anaconda3/lib/python3.7/site-packages/matplotlib/axes/_axes.py\u001b[0m in \u001b[0;36mplot\u001b[0;34m(self, scalex, scaley, *args, **kwargs)\u001b[0m\n\u001b[1;32m   1609\u001b[0m         \u001b[0mkwargs\u001b[0m \u001b[0;34m=\u001b[0m \u001b[0mcbook\u001b[0m\u001b[0;34m.\u001b[0m\u001b[0mnormalize_kwargs\u001b[0m\u001b[0;34m(\u001b[0m\u001b[0mkwargs\u001b[0m\u001b[0;34m,\u001b[0m \u001b[0mmlines\u001b[0m\u001b[0;34m.\u001b[0m\u001b[0mLine2D\u001b[0m\u001b[0;34m.\u001b[0m\u001b[0m_alias_map\u001b[0m\u001b[0;34m)\u001b[0m\u001b[0;34m\u001b[0m\u001b[0;34m\u001b[0m\u001b[0m\n\u001b[1;32m   1610\u001b[0m \u001b[0;34m\u001b[0m\u001b[0m\n\u001b[0;32m-> 1611\u001b[0;31m         \u001b[0;32mfor\u001b[0m \u001b[0mline\u001b[0m \u001b[0;32min\u001b[0m \u001b[0mself\u001b[0m\u001b[0;34m.\u001b[0m\u001b[0m_get_lines\u001b[0m\u001b[0;34m(\u001b[0m\u001b[0;34m*\u001b[0m\u001b[0margs\u001b[0m\u001b[0;34m,\u001b[0m \u001b[0;34m**\u001b[0m\u001b[0mkwargs\u001b[0m\u001b[0;34m)\u001b[0m\u001b[0;34m:\u001b[0m\u001b[0;34m\u001b[0m\u001b[0;34m\u001b[0m\u001b[0m\n\u001b[0m\u001b[1;32m   1612\u001b[0m             \u001b[0mself\u001b[0m\u001b[0;34m.\u001b[0m\u001b[0madd_line\u001b[0m\u001b[0;34m(\u001b[0m\u001b[0mline\u001b[0m\u001b[0;34m)\u001b[0m\u001b[0;34m\u001b[0m\u001b[0;34m\u001b[0m\u001b[0m\n\u001b[1;32m   1613\u001b[0m             \u001b[0mlines\u001b[0m\u001b[0;34m.\u001b[0m\u001b[0mappend\u001b[0m\u001b[0;34m(\u001b[0m\u001b[0mline\u001b[0m\u001b[0;34m)\u001b[0m\u001b[0;34m\u001b[0m\u001b[0;34m\u001b[0m\u001b[0m\n",
      "\u001b[0;32m~/anaconda3/lib/python3.7/site-packages/matplotlib/axes/_base.py\u001b[0m in \u001b[0;36m_grab_next_args\u001b[0;34m(self, *args, **kwargs)\u001b[0m\n\u001b[1;32m    391\u001b[0m                 \u001b[0mthis\u001b[0m \u001b[0;34m+=\u001b[0m \u001b[0margs\u001b[0m\u001b[0;34m[\u001b[0m\u001b[0;36m0\u001b[0m\u001b[0;34m]\u001b[0m\u001b[0;34m,\u001b[0m\u001b[0;34m\u001b[0m\u001b[0;34m\u001b[0m\u001b[0m\n\u001b[1;32m    392\u001b[0m                 \u001b[0margs\u001b[0m \u001b[0;34m=\u001b[0m \u001b[0margs\u001b[0m\u001b[0;34m[\u001b[0m\u001b[0;36m1\u001b[0m\u001b[0;34m:\u001b[0m\u001b[0;34m]\u001b[0m\u001b[0;34m\u001b[0m\u001b[0;34m\u001b[0m\u001b[0m\n\u001b[0;32m--> 393\u001b[0;31m             \u001b[0;32myield\u001b[0m \u001b[0;32mfrom\u001b[0m \u001b[0mself\u001b[0m\u001b[0;34m.\u001b[0m\u001b[0m_plot_args\u001b[0m\u001b[0;34m(\u001b[0m\u001b[0mthis\u001b[0m\u001b[0;34m,\u001b[0m \u001b[0mkwargs\u001b[0m\u001b[0;34m)\u001b[0m\u001b[0;34m\u001b[0m\u001b[0;34m\u001b[0m\u001b[0m\n\u001b[0m\u001b[1;32m    394\u001b[0m \u001b[0;34m\u001b[0m\u001b[0m\n\u001b[1;32m    395\u001b[0m \u001b[0;34m\u001b[0m\u001b[0m\n",
      "\u001b[0;32m~/anaconda3/lib/python3.7/site-packages/matplotlib/axes/_base.py\u001b[0m in \u001b[0;36m_plot_args\u001b[0;34m(self, tup, kwargs)\u001b[0m\n\u001b[1;32m    368\u001b[0m             \u001b[0mx\u001b[0m\u001b[0;34m,\u001b[0m \u001b[0my\u001b[0m \u001b[0;34m=\u001b[0m \u001b[0mindex_of\u001b[0m\u001b[0;34m(\u001b[0m\u001b[0mtup\u001b[0m\u001b[0;34m[\u001b[0m\u001b[0;34m-\u001b[0m\u001b[0;36m1\u001b[0m\u001b[0;34m]\u001b[0m\u001b[0;34m)\u001b[0m\u001b[0;34m\u001b[0m\u001b[0;34m\u001b[0m\u001b[0m\n\u001b[1;32m    369\u001b[0m \u001b[0;34m\u001b[0m\u001b[0m\n\u001b[0;32m--> 370\u001b[0;31m         \u001b[0mx\u001b[0m\u001b[0;34m,\u001b[0m \u001b[0my\u001b[0m \u001b[0;34m=\u001b[0m \u001b[0mself\u001b[0m\u001b[0;34m.\u001b[0m\u001b[0m_xy_from_xy\u001b[0m\u001b[0;34m(\u001b[0m\u001b[0mx\u001b[0m\u001b[0;34m,\u001b[0m \u001b[0my\u001b[0m\u001b[0;34m)\u001b[0m\u001b[0;34m\u001b[0m\u001b[0;34m\u001b[0m\u001b[0m\n\u001b[0m\u001b[1;32m    371\u001b[0m \u001b[0;34m\u001b[0m\u001b[0m\n\u001b[1;32m    372\u001b[0m         \u001b[0;32mif\u001b[0m \u001b[0mself\u001b[0m\u001b[0;34m.\u001b[0m\u001b[0mcommand\u001b[0m \u001b[0;34m==\u001b[0m \u001b[0;34m'plot'\u001b[0m\u001b[0;34m:\u001b[0m\u001b[0;34m\u001b[0m\u001b[0;34m\u001b[0m\u001b[0m\n",
      "\u001b[0;32m~/anaconda3/lib/python3.7/site-packages/matplotlib/axes/_base.py\u001b[0m in \u001b[0;36m_xy_from_xy\u001b[0;34m(self, x, y)\u001b[0m\n\u001b[1;32m    229\u001b[0m         \u001b[0;32mif\u001b[0m \u001b[0mx\u001b[0m\u001b[0;34m.\u001b[0m\u001b[0mshape\u001b[0m\u001b[0;34m[\u001b[0m\u001b[0;36m0\u001b[0m\u001b[0;34m]\u001b[0m \u001b[0;34m!=\u001b[0m \u001b[0my\u001b[0m\u001b[0;34m.\u001b[0m\u001b[0mshape\u001b[0m\u001b[0;34m[\u001b[0m\u001b[0;36m0\u001b[0m\u001b[0;34m]\u001b[0m\u001b[0;34m:\u001b[0m\u001b[0;34m\u001b[0m\u001b[0;34m\u001b[0m\u001b[0m\n\u001b[1;32m    230\u001b[0m             raise ValueError(\"x and y must have same first dimension, but \"\n\u001b[0;32m--> 231\u001b[0;31m                              \"have shapes {} and {}\".format(x.shape, y.shape))\n\u001b[0m\u001b[1;32m    232\u001b[0m         \u001b[0;32mif\u001b[0m \u001b[0mx\u001b[0m\u001b[0;34m.\u001b[0m\u001b[0mndim\u001b[0m \u001b[0;34m>\u001b[0m \u001b[0;36m2\u001b[0m \u001b[0;32mor\u001b[0m \u001b[0my\u001b[0m\u001b[0;34m.\u001b[0m\u001b[0mndim\u001b[0m \u001b[0;34m>\u001b[0m \u001b[0;36m2\u001b[0m\u001b[0;34m:\u001b[0m\u001b[0;34m\u001b[0m\u001b[0;34m\u001b[0m\u001b[0m\n\u001b[1;32m    233\u001b[0m             raise ValueError(\"x and y can be no greater than 2-D, but have \"\n",
      "\u001b[0;31mValueError\u001b[0m: x and y must have same first dimension, but have shapes (11,) and (10,)"
     ]
    },
    {
     "data": {
      "image/png": "[encoded data removed]",
      "text/plain": [
       "<Figure size 720x720 with 1 Axes>"
      ]
     },
     "metadata": {
      "needs_background": "light"
     },
     "output_type": "display_data"
    }
   ],
   "source": [
    "fig,ax = plt.subplots(figsize=(10, 10))\n",
    "\n",
    "\n",
    "## set grid\n",
    "ax.grid(which = \"major\", axis = \"y\", color = \"gray\", alpha = 0.8, linestyle = \"--\", linewidth = 0.5)\n",
    "ax.grid(which = \"major\", axis = \"x\", color = \"gray\", alpha = 0.8, linestyle = \"--\", linewidth = 0.5)\n",
    "\n",
    "## set axis\n",
    "plt.ylabel(\"Grond State Population\", fontsize= 32)\n",
    "ax.set_yticks(np.linspace(0, 1, 11))\n",
    "ax.set_yticklabels([\"0.0\", \"0.1\", \"0.2\", \"0.3\", \"0.4\", \"0.5\", \"0.6\", \"0.7\", \"0.8\", \"0.9\", \"1.0\"], \n",
    "                   fontsize= 24)\n",
    "plt.ylim(0,1)\n",
    "\n",
    "\n",
    "plt.xlabel(\"Leakage errorε\", fontsize= 32)\n",
    "ax.set_xticks(np.linspace(0, 0.1, 11))\n",
    "\n",
    "ax.set_xticklabels([\"0\", \"0.01\", \"0.02\", \"0.03\", \"0.04\", \"0.05\", \"0.06\", \"0.07\", \"0.08\", \"0.09\", \"0.1\"],\n",
    "                   fontsize= 20)\n",
    "x_ax = np.linspace(0, 0.1, 11)\n",
    "plt.xlim(0,0.1)\n",
    "\n",
    "\n",
    "## data\n",
    "plt.plot(x_ax, pid_list, color='#EF5350', )"
   ]
  },
  {
   "cell_type": "code",
   "execution_count": null,
   "metadata": {},
   "outputs": [],
   "source": []
  }
 ],
 "metadata": {
  "kernelspec": {
   "display_name": "Python 3",
   "language": "python",
   "name": "python3"
  },
  "language_info": {
   "codemirror_mode": {
    "name": "ipython",
    "version": 3
   },
   "file_extension": ".py",
   "mimetype": "text/x-python",
   "name": "python",
   "nbconvert_exporter": "python",
   "pygments_lexer": "ipython3",
   "version": "3.7.1"
  }
 },
 "nbformat": 4,
 "nbformat_minor": 2
}
